{
  "nbformat": 4,
  "nbformat_minor": 0,
  "metadata": {
    "colab": {
      "provenance": []
    },
    "kernelspec": {
      "name": "python3",
      "display_name": "Python 3"
    },
    "language_info": {
      "name": "python"
    }
  },
  "cells": [
    {
      "cell_type": "markdown",
      "source": [
        "# Decision Trees and Gradient Boosting"
      ],
      "metadata": {
        "id": "v8vsWahSyK_i"
      }
    },
    {
      "cell_type": "markdown",
      "source": [
        "## Setting up the Environment"
      ],
      "metadata": {
        "id": "G4FVV4npyYwk"
      }
    },
    {
      "cell_type": "markdown",
      "source": [
        "For this laboratory exercise, you will need to install the Anaconda package & environment manager. We will install a minimal distribution, [Miniconda](https://docs.conda.io/projects/miniconda/en/latest/). Choose the adequate distribution for your operating system, download and install it."
      ],
      "metadata": {
        "id": "oqOCwZN6yb5y"
      }
    },
    {
      "cell_type": "markdown",
      "source": [
        "Or use the following commands:\n",
        "\n",
        "### Windows\n",
        "```shell\n",
        "curl https://repo.anaconda.com/miniconda/Miniconda3-latest-Windows-x86_64.exe -o miniconda.exe\n",
        "start /wait \"\" miniconda.exe /S\n",
        "del miniconda.exe\n",
        "```\n",
        "\n",
        "### Linux\n",
        "```shell\n",
        "mkdir -p ~/miniconda3\n",
        "wget https://repo.anaconda.com/miniconda/Miniconda3-latest-Linux-x86_64.sh -O ~/miniconda3/miniconda.sh\n",
        "bash ~/miniconda3/miniconda.sh -b -u -p ~/miniconda3\n",
        "rm -rf ~/miniconda3/miniconda.sh\n",
        "```\n",
        "\n",
        "### macOS\n",
        "\n",
        "```shell\n",
        "mkdir -p ~/miniconda3\n",
        "curl https://repo.anaconda.com/miniconda/Miniconda3-latest-MacOSX-arm64.sh -o ~/miniconda3/miniconda.sh\n",
        "bash ~/miniconda3/miniconda.sh -b -u -p ~/miniconda3\n",
        "rm -rf ~/miniconda3/miniconda.sh\n",
        "```\n",
        "\n",
        "For both Linux and macOS after installing, initialize your newly-installed Miniconda. The following commands initialize for bash and zsh shells:\n",
        "\n",
        "```shell\n",
        "~/miniconda3/bin/conda init bash\n",
        "~/miniconda3/bin/conda init zsh\n",
        "```\n"
      ],
      "metadata": {
        "id": "8spwO4azzN36"
      }
    },
    {
      "cell_type": "markdown",
      "source": [
        "Once you have installed miniconda, run the following commands to create an environment:\n",
        "```bash\n",
        "conda create --name myenv\n",
        "```\n",
        "\n",
        "'myenv' is the name of the environment, you can change the name however you want.\n",
        "\n",
        "When conda asks you to proceed, type y"
      ],
      "metadata": {
        "id": "TpcSfn6YzKKq"
      }
    },
    {
      "cell_type": "markdown",
      "source": [
        "After successfully creating the environment, activate it with the following command:\n",
        "```bash\n",
        "conda activate myenv\n",
        "```"
      ],
      "metadata": {
        "id": "y50T_G3h0DLA"
      }
    },
    {
      "cell_type": "markdown",
      "source": [
        "For more detailed information you can read the [documentation](https://conda.io/projects/conda/en/latest/user-guide/tasks/manage-environments.html#creating-an-environment-with-commands)."
      ],
      "metadata": {
        "id": "sqbnCQZv0cJw"
      }
    },
    {
      "cell_type": "markdown",
      "source": [
        "Now, once the environment is activated, proceed to install the required libraries.\n",
        "\n",
        "```bash\n",
        "pip install numpy pandas scikit-learn xgboost matplotlib seaborn gdown\n",
        "```"
      ],
      "metadata": {
        "id": "7XcNMost0mRq"
      }
    },
    {
      "cell_type": "markdown",
      "source": [
        "In the next step, we need to add the environment to jupyter. Use the following commands to install ipykernel and add the environment to ipykernel.\n",
        "\n",
        "```bash\n",
        "pip install ipykernel\n",
        "```\n",
        "```bash\n",
        "python -m ipykernel install --name=myenv\n",
        "```\n"
      ],
      "metadata": {
        "id": "rLANBz1Wv7rp"
      }
    },
    {
      "cell_type": "markdown",
      "source": [
        "Next, start Jupyter Notebook, download this starter notebook and open it. On the dropdown menu in the Kernel tab choose the name of the environment you created, like in the picture below.\n"
      ],
      "metadata": {
        "id": "aUFIbeBt1kaS"
      }
    },
    {
      "cell_type": "markdown",
      "source": [
        "![jupyter](https://drive.google.com/uc?export=view&id=1N-27jjlIgpTILi-_6lny7ng8sE52SAZx)\n"
      ],
      "metadata": {
        "id": "VwoFV34V2w2h"
      }
    },
    {
      "cell_type": "markdown",
      "source": [
        "## Download and Read the Dataset"
      ],
      "metadata": {
        "id": "OpVoOwf6yO4i"
      }
    },
    {
      "cell_type": "markdown",
      "source": [
        "run the code below for downloading the dataset"
      ],
      "metadata": {
        "id": "ohM0n8FwyR9n"
      }
    },
    {
      "cell_type": "code",
      "execution_count": null,
      "metadata": {
        "colab": {
          "base_uri": "https://localhost:8080/"
        },
        "id": "RUsX6rH0ur_7",
        "outputId": "1c826666-9c87-41ef-fb7b-2565461c93f1"
      },
      "outputs": [
        {
          "output_type": "stream",
          "name": "stdout",
          "text": [
            "Downloading...\n",
            "From: https://drive.google.com/uc?id=1boIax8d9Sat6OJzkiIjjpqmtSZKuRYrx\n",
            "To: /content/ElectricCarData.csv\n",
            "\r  0% 0.00/8.20k [00:00<?, ?B/s]\r100% 8.20k/8.20k [00:00<00:00, 21.5MB/s]\n"
          ]
        }
      ],
      "source": [
        "!gdown 1boIax8d9Sat6OJzkiIjjpqmtSZKuRYrx"
      ]
    },
    {
      "cell_type": "markdown",
      "source": [],
      "metadata": {
        "id": "12gUch-pUdHt"
      }
    },
    {
      "cell_type": "markdown",
      "source": [
        "### Import the required libraries"
      ],
      "metadata": {
        "id": "I1ZTcNVV32yk"
      }
    },
    {
      "cell_type": "code",
      "source": [
        "import pandas as pd\n",
        "from sklearn.model_selection import train_test_split\n",
        "from sklearn.tree import DecisionTreeRegressor\n",
        "from xgboost import XGBRegressor\n",
        "from sklearn.metrics import mean_squared_error\n",
        "from sklearn.preprocessing import LabelEncoder\n"
      ],
      "metadata": {
        "id": "M7Phib8Y3eqe"
      },
      "execution_count": null,
      "outputs": []
    },
    {
      "cell_type": "markdown",
      "source": [
        "### Read the dataset"
      ],
      "metadata": {
        "id": "wk0MCMKH35Ba"
      }
    },
    {
      "cell_type": "markdown",
      "source": [
        "CONTEXT:\n",
        "This is a dataset of electric vehicles.\n",
        "\n",
        "It contains the following columns:\n",
        "\n",
        "\n",
        "*   Brand\n",
        "*   Model\n",
        "*   AccelSec - Acceleration as 0-100 km/h\n",
        "*   TopSpeed_KmH - The top speed in km/h\n",
        "*   Range_Km - Range in km\n",
        "*   Efficiency_WhKm - Efficiency Wh/km\n",
        "*   FastCharge_KmH - Charge km/h\n",
        "*   RapidCharge - Yes / No\n",
        "*   PowerTrain - Front, rear, or all wheel drive\n",
        "*   PlugType\n",
        "*   BodyStyle - Basic size or style\n",
        "*   Segment - Market segment\n",
        "*   Seats - Number of seats\n",
        "*   PriceEuro - Price in Germany before tax incentives\n",
        "\n",
        "\n"
      ],
      "metadata": {
        "id": "pSBxYm244IcC"
      }
    },
    {
      "cell_type": "markdown",
      "source": [
        "TASK:\n",
        "Predict the target 'PriceEuro' and compare the performance of the DecisionTreeRegressor and the XGBRegressor models."
      ],
      "metadata": {
        "id": "ikjYEe5T5O8o"
      }
    },
    {
      "cell_type": "code",
      "source": [
        "data = pd.read_csv('/content/ElectricCarData.csv')"
      ],
      "metadata": {
        "id": "aN-khP-Q3sau"
      },
      "execution_count": null,
      "outputs": []
    },
    {
      "cell_type": "code",
      "source": [
        "data.head()"
      ],
      "metadata": {
        "colab": {
          "base_uri": "https://localhost:8080/",
          "height": 206
        },
        "id": "qfrbPmjm4Dxq",
        "outputId": "8f9097c1-b6c8-47e0-ad12-d7667eda6da2"
      },
      "execution_count": null,
      "outputs": [
        {
          "output_type": "execute_result",
          "data": {
            "text/plain": [
              "         Brand                          Model  AccelSec  ...  Segment  Seats  PriceEuro\n",
              "0       Tesla   Model 3 Long Range Dual Motor       4.6  ...        D      5      55480\n",
              "1  Volkswagen                       ID.3 Pure      10.0  ...        C      5      30000\n",
              "2    Polestar                               2       4.7  ...        D      5      56440\n",
              "3         BMW                            iX3        6.8  ...        D      5      68040\n",
              "4       Honda                              e        9.5  ...        B      4      32997\n",
              "\n",
              "[5 rows x 14 columns]"
            ],
            "text/html": [
              "\n",
              "  <div id=\"df-63a21029-e1c8-486f-b898-9bcf07692c0d\" class=\"colab-df-container\">\n",
              "    <div>\n",
              "<style scoped>\n",
              "    .dataframe tbody tr th:only-of-type {\n",
              "        vertical-align: middle;\n",
              "    }\n",
              "\n",
              "    .dataframe tbody tr th {\n",
              "        vertical-align: top;\n",
              "    }\n",
              "\n",
              "    .dataframe thead th {\n",
              "        text-align: right;\n",
              "    }\n",
              "</style>\n",
              "<table border=\"1\" class=\"dataframe\">\n",
              "  <thead>\n",
              "    <tr style=\"text-align: right;\">\n",
              "      <th></th>\n",
              "      <th>Brand</th>\n",
              "      <th>Model</th>\n",
              "      <th>AccelSec</th>\n",
              "      <th>TopSpeed_KmH</th>\n",
              "      <th>Range_Km</th>\n",
              "      <th>Efficiency_WhKm</th>\n",
              "      <th>FastCharge_KmH</th>\n",
              "      <th>RapidCharge</th>\n",
              "      <th>PowerTrain</th>\n",
              "      <th>PlugType</th>\n",
              "      <th>BodyStyle</th>\n",
              "      <th>Segment</th>\n",
              "      <th>Seats</th>\n",
              "      <th>PriceEuro</th>\n",
              "    </tr>\n",
              "  </thead>\n",
              "  <tbody>\n",
              "    <tr>\n",
              "      <th>0</th>\n",
              "      <td>Tesla</td>\n",
              "      <td>Model 3 Long Range Dual Motor</td>\n",
              "      <td>4.6</td>\n",
              "      <td>233</td>\n",
              "      <td>450</td>\n",
              "      <td>161</td>\n",
              "      <td>940</td>\n",
              "      <td>Yes</td>\n",
              "      <td>AWD</td>\n",
              "      <td>Type 2 CCS</td>\n",
              "      <td>Sedan</td>\n",
              "      <td>D</td>\n",
              "      <td>5</td>\n",
              "      <td>55480</td>\n",
              "    </tr>\n",
              "    <tr>\n",
              "      <th>1</th>\n",
              "      <td>Volkswagen</td>\n",
              "      <td>ID.3 Pure</td>\n",
              "      <td>10.0</td>\n",
              "      <td>160</td>\n",
              "      <td>270</td>\n",
              "      <td>167</td>\n",
              "      <td>250</td>\n",
              "      <td>Yes</td>\n",
              "      <td>RWD</td>\n",
              "      <td>Type 2 CCS</td>\n",
              "      <td>Hatchback</td>\n",
              "      <td>C</td>\n",
              "      <td>5</td>\n",
              "      <td>30000</td>\n",
              "    </tr>\n",
              "    <tr>\n",
              "      <th>2</th>\n",
              "      <td>Polestar</td>\n",
              "      <td>2</td>\n",
              "      <td>4.7</td>\n",
              "      <td>210</td>\n",
              "      <td>400</td>\n",
              "      <td>181</td>\n",
              "      <td>620</td>\n",
              "      <td>Yes</td>\n",
              "      <td>AWD</td>\n",
              "      <td>Type 2 CCS</td>\n",
              "      <td>Liftback</td>\n",
              "      <td>D</td>\n",
              "      <td>5</td>\n",
              "      <td>56440</td>\n",
              "    </tr>\n",
              "    <tr>\n",
              "      <th>3</th>\n",
              "      <td>BMW</td>\n",
              "      <td>iX3</td>\n",
              "      <td>6.8</td>\n",
              "      <td>180</td>\n",
              "      <td>360</td>\n",
              "      <td>206</td>\n",
              "      <td>560</td>\n",
              "      <td>Yes</td>\n",
              "      <td>RWD</td>\n",
              "      <td>Type 2 CCS</td>\n",
              "      <td>SUV</td>\n",
              "      <td>D</td>\n",
              "      <td>5</td>\n",
              "      <td>68040</td>\n",
              "    </tr>\n",
              "    <tr>\n",
              "      <th>4</th>\n",
              "      <td>Honda</td>\n",
              "      <td>e</td>\n",
              "      <td>9.5</td>\n",
              "      <td>145</td>\n",
              "      <td>170</td>\n",
              "      <td>168</td>\n",
              "      <td>190</td>\n",
              "      <td>Yes</td>\n",
              "      <td>RWD</td>\n",
              "      <td>Type 2 CCS</td>\n",
              "      <td>Hatchback</td>\n",
              "      <td>B</td>\n",
              "      <td>4</td>\n",
              "      <td>32997</td>\n",
              "    </tr>\n",
              "  </tbody>\n",
              "</table>\n",
              "</div>\n",
              "    <div class=\"colab-df-buttons\">\n",
              "\n",
              "  <div class=\"colab-df-container\">\n",
              "    <button class=\"colab-df-convert\" onclick=\"convertToInteractive('df-63a21029-e1c8-486f-b898-9bcf07692c0d')\"\n",
              "            title=\"Convert this dataframe to an interactive table.\"\n",
              "            style=\"display:none;\">\n",
              "\n",
              "  <svg xmlns=\"http://www.w3.org/2000/svg\" height=\"24px\" viewBox=\"0 -960 960 960\">\n",
              "    <path d=\"M120-120v-720h720v720H120Zm60-500h600v-160H180v160Zm220 220h160v-160H400v160Zm0 220h160v-160H400v160ZM180-400h160v-160H180v160Zm440 0h160v-160H620v160ZM180-180h160v-160H180v160Zm440 0h160v-160H620v160Z\"/>\n",
              "  </svg>\n",
              "    </button>\n",
              "\n",
              "  <style>\n",
              "    .colab-df-container {\n",
              "      display:flex;\n",
              "      gap: 12px;\n",
              "    }\n",
              "\n",
              "    .colab-df-convert {\n",
              "      background-color: #E8F0FE;\n",
              "      border: none;\n",
              "      border-radius: 50%;\n",
              "      cursor: pointer;\n",
              "      display: none;\n",
              "      fill: #1967D2;\n",
              "      height: 32px;\n",
              "      padding: 0 0 0 0;\n",
              "      width: 32px;\n",
              "    }\n",
              "\n",
              "    .colab-df-convert:hover {\n",
              "      background-color: #E2EBFA;\n",
              "      box-shadow: 0px 1px 2px rgba(60, 64, 67, 0.3), 0px 1px 3px 1px rgba(60, 64, 67, 0.15);\n",
              "      fill: #174EA6;\n",
              "    }\n",
              "\n",
              "    .colab-df-buttons div {\n",
              "      margin-bottom: 4px;\n",
              "    }\n",
              "\n",
              "    [theme=dark] .colab-df-convert {\n",
              "      background-color: #3B4455;\n",
              "      fill: #D2E3FC;\n",
              "    }\n",
              "\n",
              "    [theme=dark] .colab-df-convert:hover {\n",
              "      background-color: #434B5C;\n",
              "      box-shadow: 0px 1px 3px 1px rgba(0, 0, 0, 0.15);\n",
              "      filter: drop-shadow(0px 1px 2px rgba(0, 0, 0, 0.3));\n",
              "      fill: #FFFFFF;\n",
              "    }\n",
              "  </style>\n",
              "\n",
              "    <script>\n",
              "      const buttonEl =\n",
              "        document.querySelector('#df-63a21029-e1c8-486f-b898-9bcf07692c0d button.colab-df-convert');\n",
              "      buttonEl.style.display =\n",
              "        google.colab.kernel.accessAllowed ? 'block' : 'none';\n",
              "\n",
              "      async function convertToInteractive(key) {\n",
              "        const element = document.querySelector('#df-63a21029-e1c8-486f-b898-9bcf07692c0d');\n",
              "        const dataTable =\n",
              "          await google.colab.kernel.invokeFunction('convertToInteractive',\n",
              "                                                    [key], {});\n",
              "        if (!dataTable) return;\n",
              "\n",
              "        const docLinkHtml = 'Like what you see? Visit the ' +\n",
              "          '<a target=\"_blank\" href=https://colab.research.google.com/notebooks/data_table.ipynb>data table notebook</a>'\n",
              "          + ' to learn more about interactive tables.';\n",
              "        element.innerHTML = '';\n",
              "        dataTable['output_type'] = 'display_data';\n",
              "        await google.colab.output.renderOutput(dataTable, element);\n",
              "        const docLink = document.createElement('div');\n",
              "        docLink.innerHTML = docLinkHtml;\n",
              "        element.appendChild(docLink);\n",
              "      }\n",
              "    </script>\n",
              "  </div>\n",
              "\n",
              "\n",
              "<div id=\"df-97424768-378d-4be8-bf1a-a6da53f4a947\">\n",
              "  <button class=\"colab-df-quickchart\" onclick=\"quickchart('df-97424768-378d-4be8-bf1a-a6da53f4a947')\"\n",
              "            title=\"Suggest charts\"\n",
              "            style=\"display:none;\">\n",
              "\n",
              "<svg xmlns=\"http://www.w3.org/2000/svg\" height=\"24px\"viewBox=\"0 0 24 24\"\n",
              "     width=\"24px\">\n",
              "    <g>\n",
              "        <path d=\"M19 3H5c-1.1 0-2 .9-2 2v14c0 1.1.9 2 2 2h14c1.1 0 2-.9 2-2V5c0-1.1-.9-2-2-2zM9 17H7v-7h2v7zm4 0h-2V7h2v10zm4 0h-2v-4h2v4z\"/>\n",
              "    </g>\n",
              "</svg>\n",
              "  </button>\n",
              "\n",
              "<style>\n",
              "  .colab-df-quickchart {\n",
              "      --bg-color: #E8F0FE;\n",
              "      --fill-color: #1967D2;\n",
              "      --hover-bg-color: #E2EBFA;\n",
              "      --hover-fill-color: #174EA6;\n",
              "      --disabled-fill-color: #AAA;\n",
              "      --disabled-bg-color: #DDD;\n",
              "  }\n",
              "\n",
              "  [theme=dark] .colab-df-quickchart {\n",
              "      --bg-color: #3B4455;\n",
              "      --fill-color: #D2E3FC;\n",
              "      --hover-bg-color: #434B5C;\n",
              "      --hover-fill-color: #FFFFFF;\n",
              "      --disabled-bg-color: #3B4455;\n",
              "      --disabled-fill-color: #666;\n",
              "  }\n",
              "\n",
              "  .colab-df-quickchart {\n",
              "    background-color: var(--bg-color);\n",
              "    border: none;\n",
              "    border-radius: 50%;\n",
              "    cursor: pointer;\n",
              "    display: none;\n",
              "    fill: var(--fill-color);\n",
              "    height: 32px;\n",
              "    padding: 0;\n",
              "    width: 32px;\n",
              "  }\n",
              "\n",
              "  .colab-df-quickchart:hover {\n",
              "    background-color: var(--hover-bg-color);\n",
              "    box-shadow: 0 1px 2px rgba(60, 64, 67, 0.3), 0 1px 3px 1px rgba(60, 64, 67, 0.15);\n",
              "    fill: var(--button-hover-fill-color);\n",
              "  }\n",
              "\n",
              "  .colab-df-quickchart-complete:disabled,\n",
              "  .colab-df-quickchart-complete:disabled:hover {\n",
              "    background-color: var(--disabled-bg-color);\n",
              "    fill: var(--disabled-fill-color);\n",
              "    box-shadow: none;\n",
              "  }\n",
              "\n",
              "  .colab-df-spinner {\n",
              "    border: 2px solid var(--fill-color);\n",
              "    border-color: transparent;\n",
              "    border-bottom-color: var(--fill-color);\n",
              "    animation:\n",
              "      spin 1s steps(1) infinite;\n",
              "  }\n",
              "\n",
              "  @keyframes spin {\n",
              "    0% {\n",
              "      border-color: transparent;\n",
              "      border-bottom-color: var(--fill-color);\n",
              "      border-left-color: var(--fill-color);\n",
              "    }\n",
              "    20% {\n",
              "      border-color: transparent;\n",
              "      border-left-color: var(--fill-color);\n",
              "      border-top-color: var(--fill-color);\n",
              "    }\n",
              "    30% {\n",
              "      border-color: transparent;\n",
              "      border-left-color: var(--fill-color);\n",
              "      border-top-color: var(--fill-color);\n",
              "      border-right-color: var(--fill-color);\n",
              "    }\n",
              "    40% {\n",
              "      border-color: transparent;\n",
              "      border-right-color: var(--fill-color);\n",
              "      border-top-color: var(--fill-color);\n",
              "    }\n",
              "    60% {\n",
              "      border-color: transparent;\n",
              "      border-right-color: var(--fill-color);\n",
              "    }\n",
              "    80% {\n",
              "      border-color: transparent;\n",
              "      border-right-color: var(--fill-color);\n",
              "      border-bottom-color: var(--fill-color);\n",
              "    }\n",
              "    90% {\n",
              "      border-color: transparent;\n",
              "      border-bottom-color: var(--fill-color);\n",
              "    }\n",
              "  }\n",
              "</style>\n",
              "\n",
              "  <script>\n",
              "    async function quickchart(key) {\n",
              "      const quickchartButtonEl =\n",
              "        document.querySelector('#' + key + ' button');\n",
              "      quickchartButtonEl.disabled = true;  // To prevent multiple clicks.\n",
              "      quickchartButtonEl.classList.add('colab-df-spinner');\n",
              "      try {\n",
              "        const charts = await google.colab.kernel.invokeFunction(\n",
              "            'suggestCharts', [key], {});\n",
              "      } catch (error) {\n",
              "        console.error('Error during call to suggestCharts:', error);\n",
              "      }\n",
              "      quickchartButtonEl.classList.remove('colab-df-spinner');\n",
              "      quickchartButtonEl.classList.add('colab-df-quickchart-complete');\n",
              "    }\n",
              "    (() => {\n",
              "      let quickchartButtonEl =\n",
              "        document.querySelector('#df-97424768-378d-4be8-bf1a-a6da53f4a947 button');\n",
              "      quickchartButtonEl.style.display =\n",
              "        google.colab.kernel.accessAllowed ? 'block' : 'none';\n",
              "    })();\n",
              "  </script>\n",
              "</div>\n",
              "    </div>\n",
              "  </div>\n"
            ]
          },
          "metadata": {},
          "execution_count": 20
        }
      ]
    },
    {
      "cell_type": "markdown",
      "source": [
        "### Encode string variables"
      ],
      "metadata": {
        "id": "rA23aFaJ38gc"
      }
    },
    {
      "cell_type": "code",
      "source": [
        "label_encoder = LabelEncoder()\n",
        "data['Brand'] = label_encoder.fit_transform(data['Brand'])\n",
        "data['Model'] = label_encoder.fit_transform(data['Model'])\n",
        "data['RapidCharge'] = label_encoder.fit_transform(data['RapidCharge'])\n",
        "data['PowerTrain'] = label_encoder.fit_transform(data['PowerTrain'])\n",
        "data['PlugType'] = label_encoder.fit_transform(data['PlugType'])\n",
        "data['BodyStyle'] = label_encoder.fit_transform(data['BodyStyle'])\n",
        "data['Segment'] = label_encoder.fit_transform(data['Segment'])\n",
        "\n",
        "data.replace('-', pd.NA, inplace=True)\n",
        "data = data.apply(pd.to_numeric, errors='coerce')\n",
        "data = data.dropna(subset=['FastCharge_KmH'])"
      ],
      "metadata": {
        "id": "XWqGjWes4BW5"
      },
      "execution_count": null,
      "outputs": []
    },
    {
      "cell_type": "markdown",
      "source": [
        "## Split the dataset for training and testing in ratio 80:20"
      ],
      "metadata": {
        "id": "ZaeQsLIV4CS5"
      }
    },
    {
      "cell_type": "code",
      "source": [
        "X = data.drop('PriceEuro', axis=1)\n",
        "y = data['PriceEuro']\n",
        "X_train, X_test, y_train, y_test = train_test_split(X, y, test_size=0.2, random_state=42)"
      ],
      "metadata": {
        "id": "zCVY_u5a5bIq"
      },
      "execution_count": null,
      "outputs": []
    },
    {
      "cell_type": "markdown",
      "source": [
        "## Initialize the DecisionTreeRegressor model, and use the fit function for training the model.\n",
        "\n",
        "Add values for the parameters max_depth, min_samples_split, and max_features."
      ],
      "metadata": {
        "id": "MAwYp-8O5ieU"
      }
    },
    {
      "cell_type": "markdown",
      "source": [
        "Fit the model using the fit function\n"
      ],
      "metadata": {
        "id": "GkrmN30657S6"
      }
    },
    {
      "cell_type": "code",
      "source": [
        "dt_model = DecisionTreeRegressor(\n",
        "    max_depth=5,\n",
        "    min_samples_split=2,\n",
        "    max_features=1.0,\n",
        ")\n",
        "\n",
        "dt_model.fit(X_train, y_train)"
      ],
      "metadata": {
        "id": "L1av3xed55AX",
        "colab": {
          "base_uri": "https://localhost:8080/",
          "height": 75
        },
        "outputId": "30d998bc-9671-4cd4-c52e-5dba293e9380"
      },
      "execution_count": null,
      "outputs": [
        {
          "output_type": "execute_result",
          "data": {
            "text/plain": [
              "DecisionTreeRegressor(max_depth=5, max_features=1.0)"
            ],
            "text/html": [
              "<style>#sk-container-id-1 {color: black;background-color: white;}#sk-container-id-1 pre{padding: 0;}#sk-container-id-1 div.sk-toggleable {background-color: white;}#sk-container-id-1 label.sk-toggleable__label {cursor: pointer;display: block;width: 100%;margin-bottom: 0;padding: 0.3em;box-sizing: border-box;text-align: center;}#sk-container-id-1 label.sk-toggleable__label-arrow:before {content: \"▸\";float: left;margin-right: 0.25em;color: #696969;}#sk-container-id-1 label.sk-toggleable__label-arrow:hover:before {color: black;}#sk-container-id-1 div.sk-estimator:hover label.sk-toggleable__label-arrow:before {color: black;}#sk-container-id-1 div.sk-toggleable__content {max-height: 0;max-width: 0;overflow: hidden;text-align: left;background-color: #f0f8ff;}#sk-container-id-1 div.sk-toggleable__content pre {margin: 0.2em;color: black;border-radius: 0.25em;background-color: #f0f8ff;}#sk-container-id-1 input.sk-toggleable__control:checked~div.sk-toggleable__content {max-height: 200px;max-width: 100%;overflow: auto;}#sk-container-id-1 input.sk-toggleable__control:checked~label.sk-toggleable__label-arrow:before {content: \"▾\";}#sk-container-id-1 div.sk-estimator input.sk-toggleable__control:checked~label.sk-toggleable__label {background-color: #d4ebff;}#sk-container-id-1 div.sk-label input.sk-toggleable__control:checked~label.sk-toggleable__label {background-color: #d4ebff;}#sk-container-id-1 input.sk-hidden--visually {border: 0;clip: rect(1px 1px 1px 1px);clip: rect(1px, 1px, 1px, 1px);height: 1px;margin: -1px;overflow: hidden;padding: 0;position: absolute;width: 1px;}#sk-container-id-1 div.sk-estimator {font-family: monospace;background-color: #f0f8ff;border: 1px dotted black;border-radius: 0.25em;box-sizing: border-box;margin-bottom: 0.5em;}#sk-container-id-1 div.sk-estimator:hover {background-color: #d4ebff;}#sk-container-id-1 div.sk-parallel-item::after {content: \"\";width: 100%;border-bottom: 1px solid gray;flex-grow: 1;}#sk-container-id-1 div.sk-label:hover label.sk-toggleable__label {background-color: #d4ebff;}#sk-container-id-1 div.sk-serial::before {content: \"\";position: absolute;border-left: 1px solid gray;box-sizing: border-box;top: 0;bottom: 0;left: 50%;z-index: 0;}#sk-container-id-1 div.sk-serial {display: flex;flex-direction: column;align-items: center;background-color: white;padding-right: 0.2em;padding-left: 0.2em;position: relative;}#sk-container-id-1 div.sk-item {position: relative;z-index: 1;}#sk-container-id-1 div.sk-parallel {display: flex;align-items: stretch;justify-content: center;background-color: white;position: relative;}#sk-container-id-1 div.sk-item::before, #sk-container-id-1 div.sk-parallel-item::before {content: \"\";position: absolute;border-left: 1px solid gray;box-sizing: border-box;top: 0;bottom: 0;left: 50%;z-index: -1;}#sk-container-id-1 div.sk-parallel-item {display: flex;flex-direction: column;z-index: 1;position: relative;background-color: white;}#sk-container-id-1 div.sk-parallel-item:first-child::after {align-self: flex-end;width: 50%;}#sk-container-id-1 div.sk-parallel-item:last-child::after {align-self: flex-start;width: 50%;}#sk-container-id-1 div.sk-parallel-item:only-child::after {width: 0;}#sk-container-id-1 div.sk-dashed-wrapped {border: 1px dashed gray;margin: 0 0.4em 0.5em 0.4em;box-sizing: border-box;padding-bottom: 0.4em;background-color: white;}#sk-container-id-1 div.sk-label label {font-family: monospace;font-weight: bold;display: inline-block;line-height: 1.2em;}#sk-container-id-1 div.sk-label-container {text-align: center;}#sk-container-id-1 div.sk-container {/* jupyter's `normalize.less` sets `[hidden] { display: none; }` but bootstrap.min.css set `[hidden] { display: none !important; }` so we also need the `!important` here to be able to override the default hidden behavior on the sphinx rendered scikit-learn.org. See: https://github.com/scikit-learn/scikit-learn/issues/21755 */display: inline-block !important;position: relative;}#sk-container-id-1 div.sk-text-repr-fallback {display: none;}</style><div id=\"sk-container-id-1\" class=\"sk-top-container\"><div class=\"sk-text-repr-fallback\"><pre>DecisionTreeRegressor(max_depth=5, max_features=1.0)</pre><b>In a Jupyter environment, please rerun this cell to show the HTML representation or trust the notebook. <br />On GitHub, the HTML representation is unable to render, please try loading this page with nbviewer.org.</b></div><div class=\"sk-container\" hidden><div class=\"sk-item\"><div class=\"sk-estimator sk-toggleable\"><input class=\"sk-toggleable__control sk-hidden--visually\" id=\"sk-estimator-id-1\" type=\"checkbox\" checked><label for=\"sk-estimator-id-1\" class=\"sk-toggleable__label sk-toggleable__label-arrow\">DecisionTreeRegressor</label><div class=\"sk-toggleable__content\"><pre>DecisionTreeRegressor(max_depth=5, max_features=1.0)</pre></div></div></div></div></div>"
            ]
          },
          "metadata": {},
          "execution_count": 32
        }
      ]
    },
    {
      "cell_type": "markdown",
      "source": [
        "## Predict the outcomes for X test"
      ],
      "metadata": {
        "id": "PUosxgf-59z0"
      }
    },
    {
      "cell_type": "code",
      "source": [
        "dt_predictions = dt_model.predict(X_test)"
      ],
      "metadata": {
        "id": "xCHgJ9kc5_u5"
      },
      "execution_count": null,
      "outputs": []
    },
    {
      "cell_type": "markdown",
      "source": [
        "## Assess the model performance, by using sklearn metrics for regression"
      ],
      "metadata": {
        "id": "vSwumlmu6ADR"
      }
    },
    {
      "cell_type": "code",
      "source": [
        "dt_rmse = mean_squared_error(y_test, dt_predictions)\n",
        "dt_mae = mean_absolute_error(y_test, dt_predictions)\n",
        "dt_r2 = r2_score(y_test, dt_predictions)"
      ],
      "metadata": {
        "id": "LKkc6JJP6B_B"
      },
      "execution_count": null,
      "outputs": []
    },
    {
      "cell_type": "markdown",
      "source": [
        "## Initialize the XGBRegressor model, and use the fit function"
      ],
      "metadata": {
        "id": "5R3RhfE86E8Y"
      }
    },
    {
      "cell_type": "markdown",
      "source": [
        "Add values for the parameters: n_estimators, max_depth, learning_rate, and set the objective to \"reg:squarederror\""
      ],
      "metadata": {
        "id": "D1-1GuOW6Pd5"
      }
    },
    {
      "cell_type": "markdown",
      "source": [
        "Fit the model using the fit function"
      ],
      "metadata": {
        "id": "yCnhvQSO6kzL"
      }
    },
    {
      "cell_type": "code",
      "source": [
        "xgb_model = XGBRegressor(n_estimator=100, max_depth=3, learning_rate=0.1, objective='reg:squarederror')\n",
        "xgb_model.fit(X_train, y_train)"
      ],
      "metadata": {
        "id": "GgmmDDSs6PKH",
        "colab": {
          "base_uri": "https://localhost:8080/",
          "height": 322
        },
        "outputId": "816825f6-b8eb-459e-aa71-629696075379"
      },
      "execution_count": null,
      "outputs": [
        {
          "output_type": "stream",
          "name": "stderr",
          "text": [
            "/usr/local/lib/python3.10/dist-packages/xgboost/core.py:160: UserWarning: [09:26:26] WARNING: /workspace/src/learner.cc:742: \n",
            "Parameters: { \"n_estimator\" } are not used.\n",
            "\n",
            "  warnings.warn(smsg, UserWarning)\n"
          ]
        },
        {
          "output_type": "execute_result",
          "data": {
            "text/plain": [
              "XGBRegressor(base_score=None, booster=None, callbacks=None,\n",
              "             colsample_bylevel=None, colsample_bynode=None,\n",
              "             colsample_bytree=None, device=None, early_stopping_rounds=None,\n",
              "             enable_categorical=False, eval_metric=None, feature_types=None,\n",
              "             gamma=None, grow_policy=None, importance_type=None,\n",
              "             interaction_constraints=None, learning_rate=0.1, max_bin=None,\n",
              "             max_cat_threshold=None, max_cat_to_onehot=None,\n",
              "             max_delta_step=None, max_depth=3, max_leaves=None,\n",
              "             min_child_weight=None, missing=nan, monotone_constraints=None,\n",
              "             multi_strategy=None, n_estimator=100, n_estimators=None,\n",
              "             n_jobs=None, num_parallel_tree=None, ...)"
            ],
            "text/html": [
              "<style>#sk-container-id-2 {color: black;background-color: white;}#sk-container-id-2 pre{padding: 0;}#sk-container-id-2 div.sk-toggleable {background-color: white;}#sk-container-id-2 label.sk-toggleable__label {cursor: pointer;display: block;width: 100%;margin-bottom: 0;padding: 0.3em;box-sizing: border-box;text-align: center;}#sk-container-id-2 label.sk-toggleable__label-arrow:before {content: \"▸\";float: left;margin-right: 0.25em;color: #696969;}#sk-container-id-2 label.sk-toggleable__label-arrow:hover:before {color: black;}#sk-container-id-2 div.sk-estimator:hover label.sk-toggleable__label-arrow:before {color: black;}#sk-container-id-2 div.sk-toggleable__content {max-height: 0;max-width: 0;overflow: hidden;text-align: left;background-color: #f0f8ff;}#sk-container-id-2 div.sk-toggleable__content pre {margin: 0.2em;color: black;border-radius: 0.25em;background-color: #f0f8ff;}#sk-container-id-2 input.sk-toggleable__control:checked~div.sk-toggleable__content {max-height: 200px;max-width: 100%;overflow: auto;}#sk-container-id-2 input.sk-toggleable__control:checked~label.sk-toggleable__label-arrow:before {content: \"▾\";}#sk-container-id-2 div.sk-estimator input.sk-toggleable__control:checked~label.sk-toggleable__label {background-color: #d4ebff;}#sk-container-id-2 div.sk-label input.sk-toggleable__control:checked~label.sk-toggleable__label {background-color: #d4ebff;}#sk-container-id-2 input.sk-hidden--visually {border: 0;clip: rect(1px 1px 1px 1px);clip: rect(1px, 1px, 1px, 1px);height: 1px;margin: -1px;overflow: hidden;padding: 0;position: absolute;width: 1px;}#sk-container-id-2 div.sk-estimator {font-family: monospace;background-color: #f0f8ff;border: 1px dotted black;border-radius: 0.25em;box-sizing: border-box;margin-bottom: 0.5em;}#sk-container-id-2 div.sk-estimator:hover {background-color: #d4ebff;}#sk-container-id-2 div.sk-parallel-item::after {content: \"\";width: 100%;border-bottom: 1px solid gray;flex-grow: 1;}#sk-container-id-2 div.sk-label:hover label.sk-toggleable__label {background-color: #d4ebff;}#sk-container-id-2 div.sk-serial::before {content: \"\";position: absolute;border-left: 1px solid gray;box-sizing: border-box;top: 0;bottom: 0;left: 50%;z-index: 0;}#sk-container-id-2 div.sk-serial {display: flex;flex-direction: column;align-items: center;background-color: white;padding-right: 0.2em;padding-left: 0.2em;position: relative;}#sk-container-id-2 div.sk-item {position: relative;z-index: 1;}#sk-container-id-2 div.sk-parallel {display: flex;align-items: stretch;justify-content: center;background-color: white;position: relative;}#sk-container-id-2 div.sk-item::before, #sk-container-id-2 div.sk-parallel-item::before {content: \"\";position: absolute;border-left: 1px solid gray;box-sizing: border-box;top: 0;bottom: 0;left: 50%;z-index: -1;}#sk-container-id-2 div.sk-parallel-item {display: flex;flex-direction: column;z-index: 1;position: relative;background-color: white;}#sk-container-id-2 div.sk-parallel-item:first-child::after {align-self: flex-end;width: 50%;}#sk-container-id-2 div.sk-parallel-item:last-child::after {align-self: flex-start;width: 50%;}#sk-container-id-2 div.sk-parallel-item:only-child::after {width: 0;}#sk-container-id-2 div.sk-dashed-wrapped {border: 1px dashed gray;margin: 0 0.4em 0.5em 0.4em;box-sizing: border-box;padding-bottom: 0.4em;background-color: white;}#sk-container-id-2 div.sk-label label {font-family: monospace;font-weight: bold;display: inline-block;line-height: 1.2em;}#sk-container-id-2 div.sk-label-container {text-align: center;}#sk-container-id-2 div.sk-container {/* jupyter's `normalize.less` sets `[hidden] { display: none; }` but bootstrap.min.css set `[hidden] { display: none !important; }` so we also need the `!important` here to be able to override the default hidden behavior on the sphinx rendered scikit-learn.org. See: https://github.com/scikit-learn/scikit-learn/issues/21755 */display: inline-block !important;position: relative;}#sk-container-id-2 div.sk-text-repr-fallback {display: none;}</style><div id=\"sk-container-id-2\" class=\"sk-top-container\"><div class=\"sk-text-repr-fallback\"><pre>XGBRegressor(base_score=None, booster=None, callbacks=None,\n",
              "             colsample_bylevel=None, colsample_bynode=None,\n",
              "             colsample_bytree=None, device=None, early_stopping_rounds=None,\n",
              "             enable_categorical=False, eval_metric=None, feature_types=None,\n",
              "             gamma=None, grow_policy=None, importance_type=None,\n",
              "             interaction_constraints=None, learning_rate=0.1, max_bin=None,\n",
              "             max_cat_threshold=None, max_cat_to_onehot=None,\n",
              "             max_delta_step=None, max_depth=3, max_leaves=None,\n",
              "             min_child_weight=None, missing=nan, monotone_constraints=None,\n",
              "             multi_strategy=None, n_estimator=100, n_estimators=None,\n",
              "             n_jobs=None, num_parallel_tree=None, ...)</pre><b>In a Jupyter environment, please rerun this cell to show the HTML representation or trust the notebook. <br />On GitHub, the HTML representation is unable to render, please try loading this page with nbviewer.org.</b></div><div class=\"sk-container\" hidden><div class=\"sk-item\"><div class=\"sk-estimator sk-toggleable\"><input class=\"sk-toggleable__control sk-hidden--visually\" id=\"sk-estimator-id-2\" type=\"checkbox\" checked><label for=\"sk-estimator-id-2\" class=\"sk-toggleable__label sk-toggleable__label-arrow\">XGBRegressor</label><div class=\"sk-toggleable__content\"><pre>XGBRegressor(base_score=None, booster=None, callbacks=None,\n",
              "             colsample_bylevel=None, colsample_bynode=None,\n",
              "             colsample_bytree=None, device=None, early_stopping_rounds=None,\n",
              "             enable_categorical=False, eval_metric=None, feature_types=None,\n",
              "             gamma=None, grow_policy=None, importance_type=None,\n",
              "             interaction_constraints=None, learning_rate=0.1, max_bin=None,\n",
              "             max_cat_threshold=None, max_cat_to_onehot=None,\n",
              "             max_delta_step=None, max_depth=3, max_leaves=None,\n",
              "             min_child_weight=None, missing=nan, monotone_constraints=None,\n",
              "             multi_strategy=None, n_estimator=100, n_estimators=None,\n",
              "             n_jobs=None, num_parallel_tree=None, ...)</pre></div></div></div></div></div>"
            ]
          },
          "metadata": {},
          "execution_count": 35
        }
      ]
    },
    {
      "cell_type": "markdown",
      "source": [
        "## Predict the outcomes for X test"
      ],
      "metadata": {
        "id": "FltYcNCS6noz"
      }
    },
    {
      "cell_type": "code",
      "source": [
        "xgb_predictions = xgb_model.predict(X_test)"
      ],
      "metadata": {
        "id": "VTqn6Xms6n6C"
      },
      "execution_count": null,
      "outputs": []
    },
    {
      "cell_type": "markdown",
      "source": [
        "## Assess the model performance, by using sklearn metrics for regression"
      ],
      "metadata": {
        "id": "OQ38frvF6oeb"
      }
    },
    {
      "cell_type": "code",
      "source": [
        "xgb_rmse = mean_squared_error(y_test, xgb_predictions)\n",
        "xgb_mae = mean_absolute_error(y_test, xgb_predictions)\n",
        "xgb_r2 = r2_score(y_test, xgb_predictions)"
      ],
      "metadata": {
        "id": "7E76dwNa6qfS"
      },
      "execution_count": null,
      "outputs": []
    },
    {
      "cell_type": "markdown",
      "source": [
        "## Compare the performances of both model for at least three regression metircs"
      ],
      "metadata": {
        "id": "0axT9BpB6q5p"
      }
    },
    {
      "cell_type": "code",
      "source": [
        "print(\"DecisionTreeRegressor\")\n",
        "print(f\"RMSE: {dt_rmse}\")\n",
        "print(f\"MAE: {dt_mae}\")\n",
        "print(f\"R2: {dt_r2}\")\n",
        "print(\"\\nXGBREgressor\")\n",
        "print(f\"RMSE: {xgb_rmse}\")\n",
        "print(f\"MAE: {xgb_mae}\")\n",
        "print(f\"R2: {xgb_r2}\")"
      ],
      "metadata": {
        "id": "pXwNpoBn6xM-",
        "colab": {
          "base_uri": "https://localhost:8080/"
        },
        "outputId": "ca6ef049-5945-4e17-cd3d-f0f7c257990c"
      },
      "execution_count": null,
      "outputs": [
        {
          "output_type": "stream",
          "name": "stdout",
          "text": [
            "DecisionTreeRegressor\n",
            "RMSE: 99473698.4859217\n",
            "MAE: 7864.790952380953\n",
            "R2: 0.8575330388363618\n",
            "\n",
            "XGBREgressor\n",
            "RMSE: 28797322.413887214\n",
            "MAE: 4221.23369140625\n",
            "R2: 0.9587562634505172\n"
          ]
        }
      ]
    }
  ]
}